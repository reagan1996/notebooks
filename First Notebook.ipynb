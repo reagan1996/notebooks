{
 "cells": [
  {
   "cell_type": "code",
   "execution_count": 1,
   "metadata": {},
   "outputs": [],
   "source": [
    "import numpy as np"
   ]
  },
  {
   "cell_type": "code",
   "execution_count": 12,
   "metadata": {},
   "outputs": [],
   "source": [
    "list1 = [10.0, 20, 30]"
   ]
  },
  {
   "cell_type": "code",
   "execution_count": 5,
   "metadata": {},
   "outputs": [
    {
     "data": {
      "text/plain": [
       "array([10, 20, 30])"
      ]
     },
     "execution_count": 5,
     "metadata": {},
     "output_type": "execute_result"
    }
   ],
   "source": [
    "arr = np.array(list1)\n",
    "arr"
   ]
  },
  {
   "cell_type": "code",
   "execution_count": 6,
   "metadata": {},
   "outputs": [],
   "source": [
    "list2 = [40, 50, 60]"
   ]
  },
  {
   "cell_type": "code",
   "execution_count": 13,
   "metadata": {},
   "outputs": [],
   "source": [
    "list12 = [list1, list2]"
   ]
  },
  {
   "cell_type": "code",
   "execution_count": 14,
   "metadata": {},
   "outputs": [
    {
     "data": {
      "text/plain": [
       "array([[10., 20., 30.],\n",
       "       [40., 50., 60.]])"
      ]
     },
     "execution_count": 14,
     "metadata": {},
     "output_type": "execute_result"
    }
   ],
   "source": [
    "arr2 = np.array(list12)\n",
    "arr2"
   ]
  },
  {
   "cell_type": "code",
   "execution_count": 10,
   "metadata": {},
   "outputs": [
    {
     "data": {
      "text/plain": [
       "(2, 3)"
      ]
     },
     "execution_count": 10,
     "metadata": {},
     "output_type": "execute_result"
    }
   ],
   "source": [
    "arr2.shape"
   ]
  },
  {
   "cell_type": "code",
   "execution_count": 15,
   "metadata": {},
   "outputs": [
    {
     "data": {
      "text/plain": [
       "dtype('float64')"
      ]
     },
     "execution_count": 15,
     "metadata": {},
     "output_type": "execute_result"
    }
   ],
   "source": [
    "arr2.dtype"
   ]
  },
  {
   "cell_type": "markdown",
   "metadata": {},
   "source": [
    "# Scalar Operations"
   ]
  },
  {
   "cell_type": "code",
   "execution_count": 16,
   "metadata": {},
   "outputs": [],
   "source": [
    "arr1 = np.array([[10, 20, 30 , 40], [2, 4, 6, 8]])"
   ]
  },
  {
   "cell_type": "code",
   "execution_count": 17,
   "metadata": {},
   "outputs": [
    {
     "data": {
      "text/plain": [
       "array([[10, 20, 30, 40],\n",
       "       [ 2,  4,  6,  8]])"
      ]
     },
     "execution_count": 17,
     "metadata": {},
     "output_type": "execute_result"
    }
   ],
   "source": [
    "arr1"
   ]
  },
  {
   "cell_type": "code",
   "execution_count": 18,
   "metadata": {},
   "outputs": [
    {
     "data": {
      "text/plain": [
       "array([[ 100,  400,  900, 1600],\n",
       "       [   4,   16,   36,   64]])"
      ]
     },
     "execution_count": 18,
     "metadata": {},
     "output_type": "execute_result"
    }
   ],
   "source": [
    "arr1*arr1"
   ]
  },
  {
   "cell_type": "code",
   "execution_count": 21,
   "metadata": {},
   "outputs": [
    {
     "data": {
      "text/plain": [
       "array([[20, 40, 60, 80],\n",
       "       [ 4,  8, 12, 16]])"
      ]
     },
     "execution_count": 21,
     "metadata": {},
     "output_type": "execute_result"
    }
   ],
   "source": [
    "arr1 + arr1"
   ]
  },
  {
   "cell_type": "markdown",
   "metadata": {},
   "source": [
    "# Creating a range of values"
   ]
  },
  {
   "cell_type": "code",
   "execution_count": 22,
   "metadata": {},
   "outputs": [],
   "source": [
    "import matplotlib.pyplot as plt"
   ]
  },
  {
   "cell_type": "code",
   "execution_count": 23,
   "metadata": {},
   "outputs": [],
   "source": [
    "%matplotlib inline"
   ]
  },
  {
   "cell_type": "code",
   "execution_count": 25,
   "metadata": {},
   "outputs": [],
   "source": [
    "points = np.arange(-3,3,0.01)"
   ]
  },
  {
   "cell_type": "code",
   "execution_count": 26,
   "metadata": {},
   "outputs": [],
   "source": [
    "dx,dy = np.meshgrid(points, points)"
   ]
  },
  {
   "cell_type": "code",
   "execution_count": 27,
   "metadata": {},
   "outputs": [
    {
     "data": {
      "text/plain": [
       "array([[-3.  , -2.99, -2.98, ...,  2.97,  2.98,  2.99],\n",
       "       [-3.  , -2.99, -2.98, ...,  2.97,  2.98,  2.99],\n",
       "       [-3.  , -2.99, -2.98, ...,  2.97,  2.98,  2.99],\n",
       "       ...,\n",
       "       [-3.  , -2.99, -2.98, ...,  2.97,  2.98,  2.99],\n",
       "       [-3.  , -2.99, -2.98, ...,  2.97,  2.98,  2.99],\n",
       "       [-3.  , -2.99, -2.98, ...,  2.97,  2.98,  2.99]])"
      ]
     },
     "execution_count": 27,
     "metadata": {},
     "output_type": "execute_result"
    }
   ],
   "source": [
    "dx"
   ]
  },
  {
   "cell_type": "code",
   "execution_count": 28,
   "metadata": {},
   "outputs": [
    {
     "data": {
      "text/plain": [
       "array([[-3.  , -3.  , -3.  , ..., -3.  , -3.  , -3.  ],\n",
       "       [-2.99, -2.99, -2.99, ..., -2.99, -2.99, -2.99],\n",
       "       [-2.98, -2.98, -2.98, ..., -2.98, -2.98, -2.98],\n",
       "       ...,\n",
       "       [ 2.97,  2.97,  2.97, ...,  2.97,  2.97,  2.97],\n",
       "       [ 2.98,  2.98,  2.98, ...,  2.98,  2.98,  2.98],\n",
       "       [ 2.99,  2.99,  2.99, ...,  2.99,  2.99,  2.99]])"
      ]
     },
     "execution_count": 28,
     "metadata": {},
     "output_type": "execute_result"
    }
   ],
   "source": [
    "dy"
   ]
  },
  {
   "cell_type": "code",
   "execution_count": 29,
   "metadata": {},
   "outputs": [],
   "source": [
    "z = dx + dy"
   ]
  },
  {
   "cell_type": "code",
   "execution_count": 30,
   "metadata": {},
   "outputs": [
    {
     "data": {
      "text/plain": [
       "array([[-6.00000000e+00, -5.99000000e+00, -5.98000000e+00, ...,\n",
       "        -3.00000000e-02, -2.00000000e-02, -1.00000000e-02],\n",
       "       [-5.99000000e+00, -5.98000000e+00, -5.97000000e+00, ...,\n",
       "        -2.00000000e-02, -1.00000000e-02, -1.27897692e-13],\n",
       "       [-5.98000000e+00, -5.97000000e+00, -5.96000000e+00, ...,\n",
       "        -1.00000000e-02, -1.27897692e-13,  1.00000000e-02],\n",
       "       ...,\n",
       "       [-3.00000000e-02, -2.00000000e-02, -1.00000000e-02, ...,\n",
       "         5.94000000e+00,  5.95000000e+00,  5.96000000e+00],\n",
       "       [-2.00000000e-02, -1.00000000e-02, -1.27897692e-13, ...,\n",
       "         5.95000000e+00,  5.96000000e+00,  5.97000000e+00],\n",
       "       [-1.00000000e-02, -1.27897692e-13,  1.00000000e-02, ...,\n",
       "         5.96000000e+00,  5.97000000e+00,  5.98000000e+00]])"
      ]
     },
     "execution_count": 30,
     "metadata": {},
     "output_type": "execute_result"
    }
   ],
   "source": [
    "z"
   ]
  },
  {
   "cell_type": "code",
   "execution_count": 31,
   "metadata": {},
   "outputs": [
    {
     "data": {
      "text/plain": [
       "<matplotlib.image.AxesImage at 0x24227876160>"
      ]
     },
     "execution_count": 31,
     "metadata": {},
     "output_type": "execute_result"
    },
    {
     "data": {
      "image/png": "[encoded data removed]",
      "text/plain": [
       "<Figure size 432x288 with 1 Axes>"
      ]
     },
     "metadata": {
      "needs_background": "light"
     },
     "output_type": "display_data"
    }
   ],
   "source": [
    "plt.imshow(z)"
   ]
  },
  {
   "cell_type": "code",
   "execution_count": 32,
   "metadata": {},
   "outputs": [
    {
     "data": {
      "text/plain": [
       "Text(0.5, 1.0, 'Sample')"
      ]
     },
     "execution_count": 32,
     "metadata": {},
     "output_type": "execute_result"
    },
    {
     "data": {
      "image/png": "[encoded data removed]",
      "text/plain": [
       "<Figure size 432x288 with 2 Axes>"
      ]
     },
     "metadata": {
      "needs_background": "light"
     },
     "output_type": "display_data"
    }
   ],
   "source": [
    "plt.imshow(z)\n",
    "plt.colorbar()\n",
    "plt.title(\"Sample\")"
   ]
  },
  {
   "cell_type": "code",
   "execution_count": 33,
   "metadata": {},
   "outputs": [],
   "source": [
    "points1 = np.arange(-5, 5, 0.5)"
   ]
  },
  {
   "cell_type": "code",
   "execution_count": 36,
   "metadata": {},
   "outputs": [],
   "source": [
    "dx1,dy1 = np.meshgrid(points1, points1)"
   ]
  },
  {
   "cell_type": "code",
   "execution_count": 37,
   "metadata": {},
   "outputs": [
    {
     "data": {
      "text/plain": [
       "array([[-5. , -4.5, -4. , -3.5, -3. , -2.5, -2. , -1.5, -1. , -0.5,  0. ,\n",
       "         0.5,  1. ,  1.5,  2. ,  2.5,  3. ,  3.5,  4. ,  4.5],\n",
       "       [-5. , -4.5, -4. , -3.5, -3. , -2.5, -2. , -1.5, -1. , -0.5,  0. ,\n",
       "         0.5,  1. ,  1.5,  2. ,  2.5,  3. ,  3.5,  4. ,  4.5],\n",
       "       [-5. , -4.5, -4. , -3.5, -3. , -2.5, -2. , -1.5, -1. , -0.5,  0. ,\n",
       "         0.5,  1. ,  1.5,  2. ,  2.5,  3. ,  3.5,  4. ,  4.5],\n",
       "       [-5. , -4.5, -4. , -3.5, -3. , -2.5, -2. , -1.5, -1. , -0.5,  0. ,\n",
       "         0.5,  1. ,  1.5,  2. ,  2.5,  3. ,  3.5,  4. ,  4.5],\n",
       "       [-5. , -4.5, -4. , -3.5, -3. , -2.5, -2. , -1.5, -1. , -0.5,  0. ,\n",
       "         0.5,  1. ,  1.5,  2. ,  2.5,  3. ,  3.5,  4. ,  4.5],\n",
       "       [-5. , -4.5, -4. , -3.5, -3. , -2.5, -2. , -1.5, -1. , -0.5,  0. ,\n",
       "         0.5,  1. ,  1.5,  2. ,  2.5,  3. ,  3.5,  4. ,  4.5],\n",
       "       [-5. , -4.5, -4. , -3.5, -3. , -2.5, -2. , -1.5, -1. , -0.5,  0. ,\n",
       "         0.5,  1. ,  1.5,  2. ,  2.5,  3. ,  3.5,  4. ,  4.5],\n",
       "       [-5. , -4.5, -4. , -3.5, -3. , -2.5, -2. , -1.5, -1. , -0.5,  0. ,\n",
       "         0.5,  1. ,  1.5,  2. ,  2.5,  3. ,  3.5,  4. ,  4.5],\n",
       "       [-5. , -4.5, -4. , -3.5, -3. , -2.5, -2. , -1.5, -1. , -0.5,  0. ,\n",
       "         0.5,  1. ,  1.5,  2. ,  2.5,  3. ,  3.5,  4. ,  4.5],\n",
       "       [-5. , -4.5, -4. , -3.5, -3. , -2.5, -2. , -1.5, -1. , -0.5,  0. ,\n",
       "         0.5,  1. ,  1.5,  2. ,  2.5,  3. ,  3.5,  4. ,  4.5],\n",
       "       [-5. , -4.5, -4. , -3.5, -3. , -2.5, -2. , -1.5, -1. , -0.5,  0. ,\n",
       "         0.5,  1. ,  1.5,  2. ,  2.5,  3. ,  3.5,  4. ,  4.5],\n",
       "       [-5. , -4.5, -4. , -3.5, -3. , -2.5, -2. , -1.5, -1. , -0.5,  0. ,\n",
       "         0.5,  1. ,  1.5,  2. ,  2.5,  3. ,  3.5,  4. ,  4.5],\n",
       "       [-5. , -4.5, -4. , -3.5, -3. , -2.5, -2. , -1.5, -1. , -0.5,  0. ,\n",
       "         0.5,  1. ,  1.5,  2. ,  2.5,  3. ,  3.5,  4. ,  4.5],\n",
       "       [-5. , -4.5, -4. , -3.5, -3. , -2.5, -2. , -1.5, -1. , -0.5,  0. ,\n",
       "         0.5,  1. ,  1.5,  2. ,  2.5,  3. ,  3.5,  4. ,  4.5],\n",
       "       [-5. , -4.5, -4. , -3.5, -3. , -2.5, -2. , -1.5, -1. , -0.5,  0. ,\n",
       "         0.5,  1. ,  1.5,  2. ,  2.5,  3. ,  3.5,  4. ,  4.5],\n",
       "       [-5. , -4.5, -4. , -3.5, -3. , -2.5, -2. , -1.5, -1. , -0.5,  0. ,\n",
       "         0.5,  1. ,  1.5,  2. ,  2.5,  3. ,  3.5,  4. ,  4.5],\n",
       "       [-5. , -4.5, -4. , -3.5, -3. , -2.5, -2. , -1.5, -1. , -0.5,  0. ,\n",
       "         0.5,  1. ,  1.5,  2. ,  2.5,  3. ,  3.5,  4. ,  4.5],\n",
       "       [-5. , -4.5, -4. , -3.5, -3. , -2.5, -2. , -1.5, -1. , -0.5,  0. ,\n",
       "         0.5,  1. ,  1.5,  2. ,  2.5,  3. ,  3.5,  4. ,  4.5],\n",
       "       [-5. , -4.5, -4. , -3.5, -3. , -2.5, -2. , -1.5, -1. , -0.5,  0. ,\n",
       "         0.5,  1. ,  1.5,  2. ,  2.5,  3. ,  3.5,  4. ,  4.5],\n",
       "       [-5. , -4.5, -4. , -3.5, -3. , -2.5, -2. , -1.5, -1. , -0.5,  0. ,\n",
       "         0.5,  1. ,  1.5,  2. ,  2.5,  3. ,  3.5,  4. ,  4.5]])"
      ]
     },
     "execution_count": 37,
     "metadata": {},
     "output_type": "execute_result"
    }
   ],
   "source": [
    "dx1"
   ]
  },
  {
   "cell_type": "code",
   "execution_count": 38,
   "metadata": {},
   "outputs": [],
   "source": [
    "z = dx1 * dy1"
   ]
  },
  {
   "cell_type": "code",
   "execution_count": 41,
   "metadata": {},
   "outputs": [
    {
     "data": {
      "text/plain": [
       "array([[ 25.  ,  22.5 ,  20.  ,  17.5 ,  15.  ,  12.5 ,  10.  ,   7.5 ,\n",
       "          5.  ,   2.5 ,  -0.  ,  -2.5 ,  -5.  ,  -7.5 , -10.  , -12.5 ,\n",
       "        -15.  , -17.5 , -20.  , -22.5 ],\n",
       "       [ 22.5 ,  20.25,  18.  ,  15.75,  13.5 ,  11.25,   9.  ,   6.75,\n",
       "          4.5 ,   2.25,  -0.  ,  -2.25,  -4.5 ,  -6.75,  -9.  , -11.25,\n",
       "        -13.5 , -15.75, -18.  , -20.25],\n",
       "       [ 20.  ,  18.  ,  16.  ,  14.  ,  12.  ,  10.  ,   8.  ,   6.  ,\n",
       "          4.  ,   2.  ,  -0.  ,  -2.  ,  -4.  ,  -6.  ,  -8.  , -10.  ,\n",
       "        -12.  , -14.  , -16.  , -18.  ],\n",
       "       [ 17.5 ,  15.75,  14.  ,  12.25,  10.5 ,   8.75,   7.  ,   5.25,\n",
       "          3.5 ,   1.75,  -0.  ,  -1.75,  -3.5 ,  -5.25,  -7.  ,  -8.75,\n",
       "        -10.5 , -12.25, -14.  , -15.75],\n",
       "       [ 15.  ,  13.5 ,  12.  ,  10.5 ,   9.  ,   7.5 ,   6.  ,   4.5 ,\n",
       "          3.  ,   1.5 ,  -0.  ,  -1.5 ,  -3.  ,  -4.5 ,  -6.  ,  -7.5 ,\n",
       "         -9.  , -10.5 , -12.  , -13.5 ],\n",
       "       [ 12.5 ,  11.25,  10.  ,   8.75,   7.5 ,   6.25,   5.  ,   3.75,\n",
       "          2.5 ,   1.25,  -0.  ,  -1.25,  -2.5 ,  -3.75,  -5.  ,  -6.25,\n",
       "         -7.5 ,  -8.75, -10.  , -11.25],\n",
       "       [ 10.  ,   9.  ,   8.  ,   7.  ,   6.  ,   5.  ,   4.  ,   3.  ,\n",
       "          2.  ,   1.  ,  -0.  ,  -1.  ,  -2.  ,  -3.  ,  -4.  ,  -5.  ,\n",
       "         -6.  ,  -7.  ,  -8.  ,  -9.  ],\n",
       "       [  7.5 ,   6.75,   6.  ,   5.25,   4.5 ,   3.75,   3.  ,   2.25,\n",
       "          1.5 ,   0.75,  -0.  ,  -0.75,  -1.5 ,  -2.25,  -3.  ,  -3.75,\n",
       "         -4.5 ,  -5.25,  -6.  ,  -6.75],\n",
       "       [  5.  ,   4.5 ,   4.  ,   3.5 ,   3.  ,   2.5 ,   2.  ,   1.5 ,\n",
       "          1.  ,   0.5 ,  -0.  ,  -0.5 ,  -1.  ,  -1.5 ,  -2.  ,  -2.5 ,\n",
       "         -3.  ,  -3.5 ,  -4.  ,  -4.5 ],\n",
       "       [  2.5 ,   2.25,   2.  ,   1.75,   1.5 ,   1.25,   1.  ,   0.75,\n",
       "          0.5 ,   0.25,  -0.  ,  -0.25,  -0.5 ,  -0.75,  -1.  ,  -1.25,\n",
       "         -1.5 ,  -1.75,  -2.  ,  -2.25],\n",
       "       [ -0.  ,  -0.  ,  -0.  ,  -0.  ,  -0.  ,  -0.  ,  -0.  ,  -0.  ,\n",
       "         -0.  ,  -0.  ,   0.  ,   0.  ,   0.  ,   0.  ,   0.  ,   0.  ,\n",
       "          0.  ,   0.  ,   0.  ,   0.  ],\n",
       "       [ -2.5 ,  -2.25,  -2.  ,  -1.75,  -1.5 ,  -1.25,  -1.  ,  -0.75,\n",
       "         -0.5 ,  -0.25,   0.  ,   0.25,   0.5 ,   0.75,   1.  ,   1.25,\n",
       "          1.5 ,   1.75,   2.  ,   2.25],\n",
       "       [ -5.  ,  -4.5 ,  -4.  ,  -3.5 ,  -3.  ,  -2.5 ,  -2.  ,  -1.5 ,\n",
       "         -1.  ,  -0.5 ,   0.  ,   0.5 ,   1.  ,   1.5 ,   2.  ,   2.5 ,\n",
       "          3.  ,   3.5 ,   4.  ,   4.5 ],\n",
       "       [ -7.5 ,  -6.75,  -6.  ,  -5.25,  -4.5 ,  -3.75,  -3.  ,  -2.25,\n",
       "         -1.5 ,  -0.75,   0.  ,   0.75,   1.5 ,   2.25,   3.  ,   3.75,\n",
       "          4.5 ,   5.25,   6.  ,   6.75],\n",
       "       [-10.  ,  -9.  ,  -8.  ,  -7.  ,  -6.  ,  -5.  ,  -4.  ,  -3.  ,\n",
       "         -2.  ,  -1.  ,   0.  ,   1.  ,   2.  ,   3.  ,   4.  ,   5.  ,\n",
       "          6.  ,   7.  ,   8.  ,   9.  ],\n",
       "       [-12.5 , -11.25, -10.  ,  -8.75,  -7.5 ,  -6.25,  -5.  ,  -3.75,\n",
       "         -2.5 ,  -1.25,   0.  ,   1.25,   2.5 ,   3.75,   5.  ,   6.25,\n",
       "          7.5 ,   8.75,  10.  ,  11.25],\n",
       "       [-15.  , -13.5 , -12.  , -10.5 ,  -9.  ,  -7.5 ,  -6.  ,  -4.5 ,\n",
       "         -3.  ,  -1.5 ,   0.  ,   1.5 ,   3.  ,   4.5 ,   6.  ,   7.5 ,\n",
       "          9.  ,  10.5 ,  12.  ,  13.5 ],\n",
       "       [-17.5 , -15.75, -14.  , -12.25, -10.5 ,  -8.75,  -7.  ,  -5.25,\n",
       "         -3.5 ,  -1.75,   0.  ,   1.75,   3.5 ,   5.25,   7.  ,   8.75,\n",
       "         10.5 ,  12.25,  14.  ,  15.75],\n",
       "       [-20.  , -18.  , -16.  , -14.  , -12.  , -10.  ,  -8.  ,  -6.  ,\n",
       "         -4.  ,  -2.  ,   0.  ,   2.  ,   4.  ,   6.  ,   8.  ,  10.  ,\n",
       "         12.  ,  14.  ,  16.  ,  18.  ],\n",
       "       [-22.5 , -20.25, -18.  , -15.75, -13.5 , -11.25,  -9.  ,  -6.75,\n",
       "         -4.5 ,  -2.25,   0.  ,   2.25,   4.5 ,   6.75,   9.  ,  11.25,\n",
       "         13.5 ,  15.75,  18.  ,  20.25]])"
      ]
     },
     "execution_count": 41,
     "metadata": {},
     "output_type": "execute_result"
    }
   ],
   "source": [
    "z"
   ]
  },
  {
   "cell_type": "code",
   "execution_count": 40,
   "metadata": {},
   "outputs": [
    {
     "data": {
      "text/plain": [
       "Text(0.5, 1.0, 'Sample 1')"
      ]
     },
     "execution_count": 40,
     "metadata": {},
     "output_type": "execute_result"
    },
    {
     "data": {
      "image/png": "[encoded data removed]",
      "text/plain": [
       "<Figure size 432x288 with 2 Axes>"
      ]
     },
     "metadata": {
      "needs_background": "light"
     },
     "output_type": "display_data"
    }
   ],
   "source": [
    "plt.imshow(z)\n",
    "plt.colorbar()\n",
    "plt.title(\"Sample 1\")"
   ]
  },
  {
   "cell_type": "code",
   "execution_count": 42,
   "metadata": {},
   "outputs": [],
   "source": [
    "# List Comprehension using Boolean arrays"
   ]
  },
  {
   "cell_type": "code",
   "execution_count": 43,
   "metadata": {},
   "outputs": [],
   "source": [
    "A = np.array([10, 20, 30, 40])"
   ]
  },
  {
   "cell_type": "code",
   "execution_count": 44,
   "metadata": {},
   "outputs": [],
   "source": [
    "B = np.array([100, 200, 300, 400])"
   ]
  },
  {
   "cell_type": "code",
   "execution_count": 45,
   "metadata": {},
   "outputs": [],
   "source": [
    "condition = np.array([True, True, False, False])"
   ]
  },
  {
   "cell_type": "code",
   "execution_count": 46,
   "metadata": {},
   "outputs": [
    {
     "data": {
      "text/plain": [
       "[10, 20, 300, 400]"
      ]
     },
     "execution_count": 46,
     "metadata": {},
     "output_type": "execute_result"
    }
   ],
   "source": [
    "answer = [(A_val if cond else B_val) for A_val, B_val, cond in zip(A, B, condition)]\n",
    "answer"
   ]
  },
  {
   "cell_type": "code",
   "execution_count": 47,
   "metadata": {},
   "outputs": [],
   "source": [
    "# Using Numpy where"
   ]
  },
  {
   "cell_type": "code",
   "execution_count": 48,
   "metadata": {},
   "outputs": [],
   "source": [
    "answer2 = np.where(condition, A, B)"
   ]
  },
  {
   "cell_type": "code",
   "execution_count": 49,
   "metadata": {},
   "outputs": [
    {
     "data": {
      "text/plain": [
       "array([ 10,  20, 300, 400])"
      ]
     },
     "execution_count": 49,
     "metadata": {},
     "output_type": "execute_result"
    }
   ],
   "source": [
    "answer2"
   ]
  },
  {
   "cell_type": "code",
   "execution_count": 50,
   "metadata": {},
   "outputs": [],
   "source": [
    "import numpy.random"
   ]
  },
  {
   "cell_type": "code",
   "execution_count": 51,
   "metadata": {},
   "outputs": [],
   "source": [
    "from numpy.random import randn"
   ]
  },
  {
   "cell_type": "code",
   "execution_count": 52,
   "metadata": {},
   "outputs": [],
   "source": [
    "arr = randn(4, 4)"
   ]
  },
  {
   "cell_type": "code",
   "execution_count": 53,
   "metadata": {},
   "outputs": [
    {
     "data": {
      "text/plain": [
       "array([[ 1.79677475, -0.53046379,  0.60634917, -1.21955445],\n",
       "       [-0.59681059,  0.33034829,  0.47426167, -0.27561459],\n",
       "       [ 1.1440349 ,  0.0813861 , -0.69211423,  0.95643387],\n",
       "       [ 0.60843599, -0.60769169, -0.01359226, -0.90604074]])"
      ]
     },
     "execution_count": 53,
     "metadata": {},
     "output_type": "execute_result"
    }
   ],
   "source": [
    "arr"
   ]
  },
  {
   "cell_type": "code",
   "execution_count": 54,
   "metadata": {},
   "outputs": [
    {
     "data": {
      "text/plain": [
       "array([[1.79677475, 0.        , 0.60634917, 0.        ],\n",
       "       [0.        , 0.33034829, 0.47426167, 0.        ],\n",
       "       [1.1440349 , 0.0813861 , 0.        , 0.95643387],\n",
       "       [0.60843599, 0.        , 0.        , 0.        ]])"
      ]
     },
     "execution_count": 54,
     "metadata": {},
     "output_type": "execute_result"
    }
   ],
   "source": [
    "np.where(arr<0, 0, arr)"
   ]
  },
  {
   "cell_type": "code",
   "execution_count": 55,
   "metadata": {},
   "outputs": [],
   "source": [
    "# statistical functions in arrays"
   ]
  },
  {
   "cell_type": "code",
   "execution_count": 57,
   "metadata": {},
   "outputs": [
    {
     "data": {
      "text/plain": [
       "255"
      ]
     },
     "execution_count": 57,
     "metadata": {},
     "output_type": "execute_result"
    }
   ],
   "source": [
    "arr1 = np.array([[10, 20, 30], [15, 25, 35], [20, 40, 60]])\n",
    "arr1.sum()"
   ]
  },
  {
   "cell_type": "code",
   "execution_count": 58,
   "metadata": {},
   "outputs": [
    {
     "data": {
      "text/plain": [
       "array([ 45,  85, 125])"
      ]
     },
     "execution_count": 58,
     "metadata": {},
     "output_type": "execute_result"
    }
   ],
   "source": [
    "arr1.sum(0)"
   ]
  },
  {
   "cell_type": "code",
   "execution_count": 59,
   "metadata": {},
   "outputs": [
    {
     "data": {
      "text/plain": [
       "28.333333333333332"
      ]
     },
     "execution_count": 59,
     "metadata": {},
     "output_type": "execute_result"
    }
   ],
   "source": [
    "arr1.mean()"
   ]
  },
  {
   "cell_type": "code",
   "execution_count": 60,
   "metadata": {},
   "outputs": [
    {
     "data": {
      "text/plain": [
       "14.337208778404378"
      ]
     },
     "execution_count": 60,
     "metadata": {},
     "output_type": "execute_result"
    }
   ],
   "source": [
    "arr1.std()"
   ]
  },
  {
   "cell_type": "code",
   "execution_count": 61,
   "metadata": {},
   "outputs": [
    {
     "data": {
      "text/plain": [
       "205.55555555555554"
      ]
     },
     "execution_count": 61,
     "metadata": {},
     "output_type": "execute_result"
    }
   ],
   "source": [
    "arr1.var()"
   ]
  },
  {
   "cell_type": "code",
   "execution_count": 62,
   "metadata": {},
   "outputs": [
    {
     "data": {
      "text/plain": [
       "True"
      ]
     },
     "execution_count": 62,
     "metadata": {},
     "output_type": "execute_result"
    }
   ],
   "source": [
    "bool_array = np.array([True, False, True])\n",
    "bool_array.any() # any == OR"
   ]
  },
  {
   "cell_type": "code",
   "execution_count": 63,
   "metadata": {},
   "outputs": [
    {
     "data": {
      "text/plain": [
       "False"
      ]
     },
     "execution_count": 63,
     "metadata": {},
     "output_type": "execute_result"
    }
   ],
   "source": [
    "bool_array.all()  # all == AND"
   ]
  },
  {
   "cell_type": "code",
   "execution_count": 64,
   "metadata": {},
   "outputs": [
    {
     "data": {
      "text/plain": [
       "array([ 0.16158614, -0.87553353, -0.95769518, -1.43428503,  1.41366353])"
      ]
     },
     "execution_count": 64,
     "metadata": {},
     "output_type": "execute_result"
    }
   ],
   "source": [
    "arr = randn(5)\n",
    "arr"
   ]
  },
  {
   "cell_type": "code",
   "execution_count": 65,
   "metadata": {},
   "outputs": [],
   "source": [
    "arr.sort()"
   ]
  },
  {
   "cell_type": "code",
   "execution_count": 66,
   "metadata": {},
   "outputs": [
    {
     "data": {
      "text/plain": [
       "array([-1.43428503, -0.95769518, -0.87553353,  0.16158614,  1.41366353])"
      ]
     },
     "execution_count": 66,
     "metadata": {},
     "output_type": "execute_result"
    }
   ],
   "source": [
    "arr"
   ]
  },
  {
   "cell_type": "code",
   "execution_count": 67,
   "metadata": {},
   "outputs": [],
   "source": [
    "# Checking values in arrays"
   ]
  },
  {
   "cell_type": "code",
   "execution_count": 68,
   "metadata": {},
   "outputs": [],
   "source": [
    "countries = np.array([\"France\", \"Germany\", \"USA\", \"Germany\"])"
   ]
  },
  {
   "cell_type": "code",
   "execution_count": 69,
   "metadata": {},
   "outputs": [
    {
     "data": {
      "text/plain": [
       "array(['France', 'Germany', 'USA', 'Germany'], dtype='<U7')"
      ]
     },
     "execution_count": 69,
     "metadata": {},
     "output_type": "execute_result"
    }
   ],
   "source": [
    "countries"
   ]
  },
  {
   "cell_type": "code",
   "execution_count": 70,
   "metadata": {
    "scrolled": true
   },
   "outputs": [
    {
     "data": {
      "text/plain": [
       "array(['France', 'Germany', 'USA'], dtype='<U7')"
      ]
     },
     "execution_count": 70,
     "metadata": {},
     "output_type": "execute_result"
    }
   ],
   "source": [
    "np.unique(countries)"
   ]
  },
  {
   "cell_type": "code",
   "execution_count": 71,
   "metadata": {},
   "outputs": [
    {
     "data": {
      "text/plain": [
       "array([ True, False])"
      ]
     },
     "execution_count": 71,
     "metadata": {},
     "output_type": "execute_result"
    }
   ],
   "source": [
    "np.in1d([\"Germany\", \"Sweden\"], countries)"
   ]
  },
  {
   "cell_type": "code",
   "execution_count": 73,
   "metadata": {},
   "outputs": [
    {
     "data": {
      "text/plain": [
       "array([0, 1, 2, 3, 4])"
      ]
     },
     "execution_count": 73,
     "metadata": {},
     "output_type": "execute_result"
    }
   ],
   "source": [
    "arr = np.arange(5)\n",
    "arr"
   ]
  },
  {
   "cell_type": "code",
   "execution_count": 74,
   "metadata": {},
   "outputs": [],
   "source": [
    "np.save(\"Hi\", arr)"
   ]
  },
  {
   "cell_type": "code",
   "execution_count": 77,
   "metadata": {},
   "outputs": [
    {
     "data": {
      "text/plain": [
       "array([0, 1, 2, 3, 4])"
      ]
     },
     "execution_count": 77,
     "metadata": {},
     "output_type": "execute_result"
    }
   ],
   "source": [
    "np.load(\"Hi.npy\")"
   ]
  },
  {
   "cell_type": "code",
   "execution_count": 78,
   "metadata": {},
   "outputs": [
    {
     "data": {
      "text/plain": [
       "array([0, 1, 2, 3, 4, 5, 6, 7, 8, 9])"
      ]
     },
     "execution_count": 78,
     "metadata": {},
     "output_type": "execute_result"
    }
   ],
   "source": [
    "arr2 = np.arange(10)\n",
    "arr2"
   ]
  },
  {
   "cell_type": "code",
   "execution_count": 79,
   "metadata": {},
   "outputs": [],
   "source": [
    "np.savez(\"ziparray\", x=arr, y=arr2)"
   ]
  },
  {
   "cell_type": "code",
   "execution_count": 80,
   "metadata": {},
   "outputs": [],
   "source": [
    "archive_array = np.load(\"ziparray.npz\")"
   ]
  },
  {
   "cell_type": "code",
   "execution_count": 81,
   "metadata": {},
   "outputs": [
    {
     "data": {
      "text/plain": [
       "array([0, 1, 2, 3, 4])"
      ]
     },
     "execution_count": 81,
     "metadata": {},
     "output_type": "execute_result"
    }
   ],
   "source": [
    "archive_array[\"x\"]"
   ]
  },
  {
   "cell_type": "code",
   "execution_count": 82,
   "metadata": {},
   "outputs": [
    {
     "data": {
      "text/plain": [
       "array([0, 1, 2, 3, 4, 5, 6, 7, 8, 9])"
      ]
     },
     "execution_count": 82,
     "metadata": {},
     "output_type": "execute_result"
    }
   ],
   "source": [
    "archive_array[\"y\"]"
   ]
  },
  {
   "cell_type": "code",
   "execution_count": 84,
   "metadata": {},
   "outputs": [],
   "source": [
    "# Saving arrays as Text files"
   ]
  },
  {
   "cell_type": "code",
   "execution_count": 87,
   "metadata": {},
   "outputs": [
    {
     "data": {
      "text/plain": [
       "array([[10, 20, 30],\n",
       "       [40, 50, 60]])"
      ]
     },
     "execution_count": 87,
     "metadata": {},
     "output_type": "execute_result"
    }
   ],
   "source": [
    "arr3 = np.array([[10, 20, 30], [40, 50, 60]])\n",
    "arr3"
   ]
  },
  {
   "cell_type": "code",
   "execution_count": 94,
   "metadata": {},
   "outputs": [],
   "source": [
    "np.savetxt(\"Hi.txt\", arr3, delimiter =\",\")"
   ]
  },
  {
   "cell_type": "code",
   "execution_count": 95,
   "metadata": {},
   "outputs": [
    {
     "data": {
      "text/plain": [
       "array([[10., 20., 30.],\n",
       "       [40., 50., 60.]])"
      ]
     },
     "execution_count": 95,
     "metadata": {},
     "output_type": "execute_result"
    }
   ],
   "source": [
    "arr4 = np.loadtxt(\"Hi.txt\",delimiter= \",\")\n",
    "arr4"
   ]
  },
  {
   "cell_type": "code",
   "execution_count": 97,
   "metadata": {},
   "outputs": [
    {
     "data": {
      "text/plain": [
       "array([[1000, 1500, 2000],\n",
       "       [2000, 3000, 3500]])"
      ]
     },
     "execution_count": 97,
     "metadata": {},
     "output_type": "execute_result"
    }
   ],
   "source": [
    "Sales = np.array([[1000, 1500, 2000], [2000, 3000, 3500]])\n",
    "Sales"
   ]
  },
  {
   "cell_type": "code",
   "execution_count": 98,
   "metadata": {},
   "outputs": [],
   "source": [
    "np.savetxt(\"Sales.txt\", Sales, delimiter= \",\")"
   ]
  },
  {
   "cell_type": "code",
   "execution_count": 99,
   "metadata": {},
   "outputs": [
    {
     "data": {
      "text/plain": [
       "array([[1000., 1500., 2000.],\n",
       "       [2000., 3000., 3500.]])"
      ]
     },
     "execution_count": 99,
     "metadata": {},
     "output_type": "execute_result"
    }
   ],
   "source": [
    "np.loadtxt(\"Sales.txt\", delimiter=\",\")"
   ]
  },
  {
   "cell_type": "code",
   "execution_count": 101,
   "metadata": {},
   "outputs": [],
   "source": [
    "from random import randint"
   ]
  },
  {
   "cell_type": "code",
   "execution_count": 127,
   "metadata": {},
   "outputs": [
    {
     "data": {
      "text/plain": [
       "[5, 3, 0, 5, 2]"
      ]
     },
     "execution_count": 127,
     "metadata": {},
     "output_type": "execute_result"
    }
   ],
   "source": [
    "[randint(0,5) for i in range(1,6)]"
   ]
  },
  {
   "cell_type": "code",
   "execution_count": 126,
   "metadata": {},
   "outputs": [
    {
     "data": {
      "text/plain": [
       "array([['Eimantas', 'Reagan', 'Mariam', 'Alun', 'Iman'],\n",
       "       ['1', '4', '1', '2', '1']], dtype='<U8')"
      ]
     },
     "execution_count": 126,
     "metadata": {},
     "output_type": "execute_result"
    }
   ],
   "source": [
    "np.array([[\"Eimantas\", \"Reagan\", \"Mariam\", \"Alun\", \"Iman\"], [randint(1,5) for i in range(1,6)]])"
   ]
  },
  {
   "cell_type": "code",
   "execution_count": 129,
   "metadata": {},
   "outputs": [
    {
     "data": {
      "text/plain": [
       "{'Alun', 'Eimantas', 'Iman', 'Mariam', 'Reagan'}"
      ]
     },
     "execution_count": 129,
     "metadata": {},
     "output_type": "execute_result"
    }
   ],
   "source": [
    "set([\"Eimantas\", \"Reagan\", \"Mariam\", \"Alun\", \"Iman\"])"
   ]
  },
  {
   "cell_type": "code",
   "execution_count": null,
   "metadata": {},
   "outputs": [],
   "source": []
  }
 ],
 "metadata": {
  "kernelspec": {
   "display_name": "Python 3",
   "language": "python",
   "name": "python3"
  },
  "language_info": {
   "codemirror_mode": {
    "name": "ipython",
    "version": 3
   },
   "file_extension": ".py",
   "mimetype": "text/x-python",
   "name": "python",
   "nbconvert_exporter": "python",
   "pygments_lexer": "ipython3",
   "version": "3.7.3"
  }
 },
 "nbformat": 4,
 "nbformat_minor": 2
}
